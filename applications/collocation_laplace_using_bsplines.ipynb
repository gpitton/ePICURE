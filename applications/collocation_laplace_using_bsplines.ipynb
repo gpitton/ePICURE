{
 "cells": [
  {
   "cell_type": "code",
   "execution_count": null,
   "metadata": {},
   "outputs": [
    {
     "name": "stdout",
     "output_type": "stream",
     "text": [
      "Populating the interactive namespace from numpy and matplotlib\n",
      "The autoreload extension is already loaded. To reload it, use:\n",
      "  %reload_ext autoreload\n"
     ]
    }
   ],
   "source": [
    "%pylab inline\n",
    "%load_ext autoreload\n",
    "%autoreload 2\n",
    "\n",
    "from utilities import *\n",
    "from interfaces import *\n",
    "import numpy as np"
   ]
  },
  {
   "cell_type": "code",
   "execution_count": 28,
   "metadata": {},
   "outputs": [
    {
     "name": "stdout",
     "output_type": "stream",
     "text": [
      "Linfty error:  "
     ]
    },
    {
     "name": "stdout",
     "output_type": "stream",
     "text": [
      "1.73333694995e-33\n"
     ]
    },
    {
     "data": {
      "image/png": "[encoded data removed]",
      "text/plain": [
       "<matplotlib.figure.Figure at 0x107bc6450>"
      ]
     },
     "metadata": {},
     "output_type": "display_data"
    }
   ],
   "source": [
    "p = 2 # Degree\n",
    "n = 5 # Knots Boundaries\n",
    "# knots = np.r_[p*[0], linspace(0,1,n), p*[1]]  # Make an open knot vector\n",
    "knots = np.r_[(p-1)*[0], linspace(0,1,n), (p-1)*[1]] # Make an uniform vector, such that end points are zero\n",
    "vs = BsplineVectorSpace(p, knots)\n",
    "\n",
    "# Collocation points\n",
    "x = linspace(0,1,vs.n_dofs+2)[1:-1]\n",
    "\n",
    "A = -interpolation_matrix(vs, x, 2)  # Second derivatives\n",
    "\n",
    "# Laplace equation using Collocation approach...\n",
    "\n",
    "# A*u = -u''(x) = f(x) \n",
    "f = lambda x: 1\n",
    "exact = lambda x: x*(1-x)/2\n",
    "\n",
    "cu = squeeze(np.linalg.solve(A, f(x)))\n",
    "\n",
    "s = linspace(0,1,1000)\n",
    "u = vs.element(cu)\n",
    "\n",
    "plot(s, u(s))\n",
    "plot(s, exact(s))\n",
    "\n",
    "print ('L^infty error: ', max(abs(u(s)-exact(s))))"
   ]
  }
 ],
 "metadata": {
  "name": "",
  "signature": "sha256:12a660f55ad7c81c72f63842b4fc2a3983580d25fe6e5ee8c2f76ab92f18a0ae"
 },
 "nbformat": 4,
 "nbformat_minor": 0
}
